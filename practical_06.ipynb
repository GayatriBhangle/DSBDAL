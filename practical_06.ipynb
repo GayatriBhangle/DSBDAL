{
 "cells": [
  {
   "cell_type": "code",
   "execution_count": 1,
   "id": "379c5ed8",
   "metadata": {},
   "outputs": [],
   "source": [
    "import pandas as pd\n",
    "import numpy as np0"
   ]
  },
  {
   "cell_type": "code",
   "execution_count": null,
   "id": "fb47982a",
   "metadata": {},
   "outputs": [],
   "source": [
    "df = pd.read_csv('airquality_data.csv', encoding='cp1252')"
   ]
  }
 ],
 "metadata": {
  "kernelspec": {
   "display_name": "Python 3 (ipykernel)",
   "language": "python",
   "name": "python3"
  },
  "language_info": {
   "codemirror_mode": {
    "name": "ipython",
    "version": 3
   },
   "file_extension": ".py",
   "mimetype": "text/x-python",
   "name": "python",
   "nbconvert_exporter": "python",
   "pygments_lexer": "ipython3",
   "version": "3.11.3"
  }
 },
 "nbformat": 4,
 "nbformat_minor": 5
}
